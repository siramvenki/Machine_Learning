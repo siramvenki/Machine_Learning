{
 "cells": [
  {
   "cell_type": "code",
   "execution_count": 33,
   "metadata": {},
   "outputs": [],
   "source": [
    "import arff\n",
    "import math\n",
    "\n",
    "from numpy import median\n",
    "from numpy import mean\n",
    "\n",
    "df=arff.load(open('attachments/trainProdSelection/trainProdSelection.arff','rb'))\n",
    "train=df['data']\n",
    "\n"
   ]
  },
  {
   "cell_type": "code",
   "execution_count": 34,
   "metadata": {},
   "outputs": [],
   "source": [
    "# df1=arff.load(open('attachments/testProdSelection/testProdSelection.arff','rb'))\n",
    "# test=df1['data']\n",
    "# test\n",
    "\n",
    "from random import shuffle\n",
    "shuffle(train)\n",
    "sp=int(0.2*(len(train)))\n",
    "\n",
    "test = train[:sp]\n",
    "train=train[sp:]\n"
   ]
  },
  {
   "cell_type": "code",
   "execution_count": 35,
   "metadata": {
    "collapsed": true
   },
   "outputs": [],
   "source": [
    "dicTyp={\"student\":0, \"engineer\":1,\"librarian\":2,\"professor\":3,\"doctor\":4}\n",
    "dicLs={\"spend<<saving\":0,\"spend<saving\":1, \"spend>saving\":2, \"spend>>saving\":3}\n",
    "dicLab={\"C1\":0,\"C2\":1,\"C3\":2,\"C4\":3,\"C5\":4}\n",
    "typ=[]\n",
    "ls=[]\n",
    "vac=[]\n",
    "ec=[]\n",
    "sal=[]\n",
    "prp=[]\n",
    "lab=[]\n",
    "for i in range(len(train)):\n",
    "    typ.append(dicTyp[train[i][0]])\n",
    "    ls.append(dicLs[train[i][1]])\n",
    "    vac.append(int(round(train[i][2])))\n",
    "    ec.append(int(round(train[i][3])))\n",
    "    sal.append(int(round(train[i][4])))\n",
    "    prp.append(int(round(train[i][5])))\n",
    "    lab.append(int(round(dicLab[train[i][6]])))\n",
    "typ1=[]\n",
    "ls1=[]\n",
    "vac1=[]\n",
    "ec1=[]\n",
    "sal1=[]\n",
    "prp1=[]\n",
    "lab1=[]\n",
    "for i in range(len(test)):\n",
    "    typ1.append(dicTyp[test[i][0]])\n",
    "    ls1.append(dicLs[test[i][1]])\n",
    "    vac1.append(int(round(test[i][2])))\n",
    "    ec1.append(int(round(test[i][3])))\n",
    "    sal1.append(int(round(test[i][4])))\n",
    "    prp1.append(int(round(test[i][5])))\n",
    "    lab1.append(int(round(dicLab[test[i][6]])))"
   ]
  },
  {
   "cell_type": "code",
   "execution_count": 36,
   "metadata": {
    "collapsed": true
   },
   "outputs": [],
   "source": [
    "def mlab():\n",
    "    count=[1,1,1,1,1,1]\n",
    "    lab1=[0,0,0,0,0]\n",
    "    for i in lab:\n",
    "        lab1[i]=lab1[i]+1\n",
    "    for i in range(len(lab1)):\n",
    "        lab1[i]=-1*((lab1[i]/(len(lab)*1.0))*(math.log(lab1[i]/(len(lab)*1.0),2)))\n",
    "    Hy=sum(lab1)\n",
    "    return Hy"
   ]
  },
  {
   "cell_type": "code",
   "execution_count": 37,
   "metadata": {
    "collapsed": true
   },
   "outputs": [],
   "source": [
    "#conditional entrophy and ig of typ\n",
    "def mtyp():\n",
    "    enTyp=0\n",
    "    for i in range(5):\n",
    "        l1=[0,0,0,0,0]\n",
    "        for j in range(len(typ)):\n",
    "            if(i==typ[j]):\n",
    "                l1[lab[j]]=l1[lab[j]]+1\n",
    "        s=sum(l1)*1.0\n",
    "        lo=0\n",
    "        for j in range(len(l1)):\n",
    "            if(l1[j]!=0):\n",
    "                lo=lo+(-1*(l1[j]/s)*math.log((l1[j]/s),2))\n",
    "        enTyp=enTyp+((s/(len(typ)*1.0))*lo)\n",
    "    igTyp=mlab()-enTyp\n",
    "    return igTyp"
   ]
  },
  {
   "cell_type": "code",
   "execution_count": 38,
   "metadata": {
    "collapsed": true
   },
   "outputs": [],
   "source": [
    "#conditional entrophy and ig of ls\n",
    "def mls():\n",
    "    enLs=0\n",
    "    for i in range(4):\n",
    "        l1=[0,0,0,0,0]\n",
    "        for j in range(len(ls)):\n",
    "            if(i==ls[j]):\n",
    "                l1[lab[j]]=l1[lab[j]]+1\n",
    "        s=sum(l1)*1.0\n",
    "        lo=0\n",
    "        for j in range(len(l1)):\n",
    "            if(l1[j]!=0):\n",
    "                lo=lo+(-1*(l1[j]/s)*math.log((l1[j]/s),2))\n",
    "        enLs=enLs+((s/(len(ls)*1.0))*lo)\n",
    "    igLs=mlab()-enLs\n",
    "    return igLs"
   ]
  },
  {
   "cell_type": "code",
   "execution_count": 39,
   "metadata": {
    "collapsed": true
   },
   "outputs": [],
   "source": [
    "#conditional entrophy and ig of vac\n",
    "def mvac():\n",
    "    m=max(vac)\n",
    "    l1=[]\n",
    "    for i in range(m):\n",
    "        l1.append(0)\n",
    "    enVac=0\n",
    "    for i in range(m+1):\n",
    "        l1=[0,0,0,0,0]\n",
    "        for j in range(len(vac)):\n",
    "            if(i==vac[j]):\n",
    "                l1[lab[j]]=l1[lab[j]]+1\n",
    "        s=sum(l1)*1.0\n",
    "        lo=0\n",
    "        for j in range(len(l1)):\n",
    "            if(l1[j]!=0):\n",
    "                lo=lo+(-1*(l1[j]/s)*math.log((l1[j]/s),2))\n",
    "        enVac=enVac+((s/(len(vac)*1.0))*lo)\n",
    "    igVac=mlab()-enVac\n",
    "    return igVac"
   ]
  },
  {
   "cell_type": "code",
   "execution_count": 40,
   "metadata": {
    "collapsed": true
   },
   "outputs": [],
   "source": [
    "#conditional entrophy and ig of ec\n",
    "def mec():\n",
    "    m=max(ec)\n",
    "    l1=[]\n",
    "    for i in range(m):\n",
    "        l1.append(0)\n",
    "    enEc=0\n",
    "    for i in range(m+1):\n",
    "        l1=[0,0,0,0,0]\n",
    "        for j in range(len(ec)):\n",
    "            if(i==ec[j]):\n",
    "                l1[lab[j]]=l1[lab[j]]+1\n",
    "        s=sum(l1)*1.0\n",
    "        lo=0\n",
    "        for j in range(len(l1)):\n",
    "            if(l1[j]!=0):\n",
    "                lo=lo+(-1*(l1[j]/s)*math.log((l1[j]/s),2))\n",
    "        enEc=enEc+((s/(len(ec)*1.0))*lo)\n",
    "    igEc=mlab()-enEc\n",
    "    return igEc"
   ]
  },
  {
   "cell_type": "code",
   "execution_count": 41,
   "metadata": {
    "collapsed": true
   },
   "outputs": [],
   "source": [
    "#conditional entrophy and ig of sal\n",
    "def msal():\n",
    "    m=max(sal)\n",
    "    l1=[]\n",
    "    for i in range(m):\n",
    "        l1.append(0)\n",
    "    enSal=0\n",
    "    for i in range(m+1):\n",
    "        l1=[0,0,0,0,0]\n",
    "        for j in range(len(sal)):\n",
    "            if(i==sal[j]):\n",
    "                l1[lab[j]]=l1[lab[j]]+1\n",
    "        s=sum(l1)*1.0\n",
    "        lo=0\n",
    "        for j in range(len(l1)):\n",
    "            if(l1[j]!=0):\n",
    "                lo=lo+(-1*(l1[j]/s)*math.log((l1[j]/s),2))\n",
    "        enSal=enSal+((s/(len(sal)*1.0))*lo)\n",
    "    igSal=mlab()-enSal\n",
    "    return igSal"
   ]
  },
  {
   "cell_type": "code",
   "execution_count": 42,
   "metadata": {},
   "outputs": [
    {
     "name": "stdout",
     "output_type": "stream",
     "text": [
      "0.997039752536\n",
      "0.404104369895\n",
      "1.74935510931\n",
      "1.89614409601\n",
      "0.943971604519\n",
      "0.972778971897\n"
     ]
    }
   ],
   "source": [
    "#conditional entrophy and ig of prp\n",
    "def mprp():\n",
    "    m=max(prp)\n",
    "    l1=[]\n",
    "    for i in range(m):\n",
    "        l1.append(0)\n",
    "    enPrp=0\n",
    "    for i in range(m+1):\n",
    "        l1=[0,0,0,0,0]\n",
    "        for j in range(len(prp)):\n",
    "            if(i==prp[j]):\n",
    "                l1[lab[j]]=l1[lab[j]]+1\n",
    "        s=sum(l1)*1.0\n",
    "        lo=0\n",
    "        for j in range(len(l1)):\n",
    "            if(l1[j]!=0):\n",
    "                lo=lo+(-1*(l1[j]/s)*math.log((l1[j]/s),2))\n",
    "        enPrp=enPrp+((s/(len(prp)*1.0))*lo)\n",
    "    igPrp=mlab()-enPrp\n",
    "    return igPrp\n",
    "print mtyp()\n",
    "print mls()\n",
    "print mvac()\n",
    "print mec()\n",
    "print msal()\n",
    "print mprp()"
   ]
  },
  {
   "cell_type": "code",
   "execution_count": 43,
   "metadata": {
    "collapsed": true
   },
   "outputs": [],
   "source": [
    "root=[1,1,1,1,1,1]"
   ]
  },
  {
   "cell_type": "code",
   "execution_count": 44,
   "metadata": {
    "collapsed": true
   },
   "outputs": [],
   "source": [
    "class Tree(object):\n",
    "    def __init__(self):\n",
    "        \n",
    "        self.data = None\n",
    "        self.classifier=None\n",
    "        self.typ=[]\n",
    "        self.ls=[]\n",
    "        self.vac=[]\n",
    "        self.ec=[]\n",
    "        self.sal=[]\n",
    "        self.prp=[]\n",
    "        self.lab=[]\n",
    "        self.attr=[0,0,0,0,0,0]\n",
    "        self.ig=[0,0,0,0,0,0]\n",
    "        self.splitAttr=None\n"
   ]
  },
  {
   "cell_type": "code",
   "execution_count": 45,
   "metadata": {},
   "outputs": [],
   "source": [
    "dictAttr1={0:mtyp(),1:mls(),2:mvac(),3:mec(),4:msal(),5:mprp()}\n",
    "dictAttr2={mtyp():0,mls():1,mvac():2,3:mec(),4:msal(),5:mprp()}\n",
    "output=[None]*(2**7)\n",
    "\n",
    "output[1]=Tree()\n",
    "output[1].data=mean(ec)\n",
    "output[1].typ=typ\n",
    "output[1].ls=ls\n",
    "output[1].vac=vac\n",
    "output[1].ec=ec\n",
    "output[1].sal=sal\n",
    "output[1].prp=prp\n",
    "output[1].lab=lab\n",
    "output[1].attr=[1,1,1,0,1,1]\n",
    "output[1].ig=[1,1,1,0,1,1]\n",
    "output[1].splitAttr=3\n",
    "\n",
    "for i in range(2,(2**7)):\n",
    "    \n",
    "    output[i]=Tree()\n",
    "    for j in range(len(output[i/2].ec)):\n",
    "        if(i%2==0 and output[i/2].ec[j]<=output[i/2].data):\n",
    "            output[i].typ.append(output[i/2].typ[j])\n",
    "            output[i].ls.append(output[i/2].ls[j])\n",
    "            output[i].vac.append(output[i/2].vac[j])\n",
    "            output[i].ec.append(output[i/2].ec[j])\n",
    "            output[i].sal.append(output[i/2].sal[j])\n",
    "            output[i].prp.append(output[i/2].prp[j])\n",
    "            output[i].lab.append(output[i/2].lab[j])\n",
    "        elif(i%2==1 and output[i/2].ec[j]>output[i/2].data):\n",
    "            output[i].typ.append(output[i/2].typ[j])\n",
    "            output[i].ls.append(output[i/2].ls[j])\n",
    "            output[i].vac.append(output[i/2].vac[j])\n",
    "            output[i].ec.append(output[i/2].ec[j])\n",
    "            output[i].sal.append(output[i/2].sal[j])\n",
    "            output[i].prp.append(output[i/2].prp[j])\n",
    "            output[i].lab.append(output[i/2].lab[j])\n",
    "    temp=[0]*5\n",
    "    if(max(output[i/2].attr)==0):\n",
    "        for j in range(len(output[i].lab)):\n",
    "            temp[output[i].lab[j]]=temp[output[i].lab[j]]+1\n",
    "        ind=temp.index(max(temp))\n",
    "        output[i].classifier=ind\n",
    "        continue\n",
    "            \n",
    "    \n",
    "    typ=output[i].typ[:]\n",
    "    ls=output[i].ls[:]\n",
    "    vac=output[i].vac[:]\n",
    "    ec=output[i].ec[:]\n",
    "    sal=output[i].sal[:]\n",
    "    prp=output[i].prp[:]\n",
    "    lab=output[i].lab[:]\n",
    "    output[i].attr=output[i/2].attr[:]\n",
    "    for j in range(len(output[i/2].attr)):\n",
    "        if(output[i/2].attr[j]==1):\n",
    "            output[i].ig[j]=dictAttr1[j]\n",
    "    ind=output[i].ig.index(max(output[i].ig))\n",
    "    output[i].attr[ind]=0\n",
    "    output[i].splitAttr=ind\n",
    "    \n",
    "# for i in range(2**6,len(output)):\n",
    "#     print output[i].classifier\n",
    "    "
   ]
  },
  {
   "cell_type": "code",
   "execution_count": 46,
   "metadata": {},
   "outputs": [
    {
     "name": "stdout",
     "output_type": "stream",
     "text": [
      "Model accuracy is: 43.2432432432 %\n"
     ]
    }
   ],
   "source": [
    "dictTest={0:typ1,1:ls1,2:vac1,3:ec1,4:sal1,5:prp1}\n",
    "count=0\n",
    "for i in range(len(test)):\n",
    "    ind=1;\n",
    "    temp=output[ind]\n",
    "    while(temp.splitAttr!=None):\n",
    "        if(dictTest[temp.splitAttr][i]<=temp.data):\n",
    "            temp=output[2*ind]\n",
    "            ind=ind*2;\n",
    "        else:\n",
    "            temp=output[2*ind+1]\n",
    "            ind=ind*2+1\n",
    "    if(temp.classifier==lab1[i]):\n",
    "        count=count+1\n",
    "print \"Model accuracy is:\",(float(count)/len(test))*100,\"%\"\n",
    "    "
   ]
  },
  {
   "cell_type": "code",
   "execution_count": null,
   "metadata": {
    "collapsed": true
   },
   "outputs": [],
   "source": []
  },
  {
   "cell_type": "code",
   "execution_count": null,
   "metadata": {
    "collapsed": true
   },
   "outputs": [],
   "source": []
  },
  {
   "cell_type": "code",
   "execution_count": null,
   "metadata": {
    "collapsed": true
   },
   "outputs": [],
   "source": []
  }
 ],
 "metadata": {
  "kernelspec": {
   "display_name": "Python 2",
   "language": "python",
   "name": "python2"
  },
  "language_info": {
   "codemirror_mode": {
    "name": "ipython",
    "version": 2
   },
   "file_extension": ".py",
   "mimetype": "text/x-python",
   "name": "python",
   "nbconvert_exporter": "python",
   "pygments_lexer": "ipython2",
   "version": "2.7.13"
  }
 },
 "nbformat": 4,
 "nbformat_minor": 2
}
