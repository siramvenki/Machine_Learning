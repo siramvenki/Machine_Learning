{
 "cells": [
  {
   "cell_type": "code",
   "execution_count": 28,
   "metadata": {},
   "outputs": [],
   "source": [
    "import arff\n",
    "import math\n",
    "\n",
    "df=arff.load(open('attachments/trainProdSelection/trainProdSelection.arff','rb'))\n",
    "train=df['data']\n"
   ]
  },
  {
   "cell_type": "code",
   "execution_count": 29,
   "metadata": {},
   "outputs": [],
   "source": [
    "# df1=arff.load(open('attachments/testProdSelection/testProdSelection.arff','rb'))\n",
    "# test=df1['data']\n",
    "\n",
    "from random import shuffle\n",
    "shuffle(train)\n",
    "sp=int(0.2*(len(train)))\n",
    "\n",
    "test = train[:sp]\n",
    "train=train[sp:]\n"
   ]
  },
  {
   "cell_type": "code",
   "execution_count": 30,
   "metadata": {
    "collapsed": true
   },
   "outputs": [],
   "source": [
    "#splitting attributes\n",
    "typ=[]\n",
    "ls=[]\n",
    "vac=[]\n",
    "ec=[]\n",
    "sal=[]\n",
    "prp=[]\n",
    "lab=[]\n",
    "for i in range(len(train)):\n",
    "    typ.append(train[i][0])\n",
    "    ls.append(train[i][1])\n",
    "    vac.append(train[i][2])\n",
    "    ec.append(train[i][3])\n",
    "    sal.append(train[i][4])\n",
    "    prp.append(train[i][5])\n",
    "    lab.append(train[i][6])"
   ]
  },
  {
   "cell_type": "code",
   "execution_count": 31,
   "metadata": {
    "collapsed": true
   },
   "outputs": [],
   "source": [
    "#normalizing numeric values of train data\n",
    "maxx=max(vac)\n",
    "minn=min(vac)\n",
    "for i in range(len(vac)):\n",
    "    vac[i]=(vac[i]-minn)/(maxx-minn)\n",
    "maxx=max(ec)\n",
    "minn=min(ec)\n",
    "for i in range(len(ec)):\n",
    "    ec[i]=(ec[i]-minn)/(maxx-minn)\n",
    "maxx=max(sal)\n",
    "minn=min(sal)\n",
    "for i in range(len(sal)):\n",
    "    sal[i]=(sal[i]-minn)/(maxx-minn)\n",
    "maxx=max(prp)\n",
    "minn=min(prp)\n",
    "for i in range(len(prp)):\n",
    "    prp[i]=(prp[i]-minn)/(maxx-minn)\n"
   ]
  },
  {
   "cell_type": "code",
   "execution_count": 32,
   "metadata": {
    "collapsed": true
   },
   "outputs": [],
   "source": [
    "#normalizing numeric values of test data\n",
    "typ1=[]\n",
    "ls1=[]\n",
    "vac1=[]\n",
    "ec1=[]\n",
    "sal1=[]\n",
    "prp1=[]\n",
    "lab1=[]\n",
    "for i in range(len(test)):\n",
    "    typ1.append(test[i][0])\n",
    "    ls1.append(test[i][1])\n",
    "    vac1.append(test[i][2])\n",
    "    ec1.append(test[i][3])\n",
    "    sal1.append(test[i][4])\n",
    "    prp1.append(test[i][5])\n",
    "    lab1.append(test[i][6])\n",
    "maxx=max(vac1)\n",
    "minn=min(vac1)\n",
    "for i in range(len(vac1)):\n",
    "    vac1[i]=(vac1[i]-minn)/(maxx-minn)\n",
    "maxx=max(ec1)\n",
    "minn=min(ec1)\n",
    "for i in range(len(ec1)):\n",
    "    ec1[i]=(ec1[i]-minn)/(maxx-minn)\n",
    "maxx=max(sal1)\n",
    "minn=min(sal1)\n",
    "for i in range(len(sal1)):\n",
    "    sal1[i]=(sal1[i]-minn)/(maxx-minn)\n",
    "maxx=max(prp1)\n",
    "minn=min(prp1)\n",
    "for i in range(len(prp1)):\n",
    "    prp1[i]=(prp1[i]-minn)/(maxx-minn)\n"
   ]
  },
  {
   "cell_type": "code",
   "execution_count": 33,
   "metadata": {},
   "outputs": [
    {
     "name": "stdout",
     "output_type": "stream",
     "text": [
      "[[0, 1.6025685662933382, 0, 0, 0], [0, 0, 1.5675604466334754, 0, 0], [0, 1.591071764140556, 0, 0, 0], [0, 1.6653071345892774, 0, 0, 0], [0, 0, 0, 0, 1.716564284760345], [0, 0, 1.4878768550959351, 0, 0], [0, 0, 0, 1.771256358342765, 0], [0, 1.761647086097197, 0, 0, 0], [0, 0, 1.683390031079028, 0, 0], [0, 0, 1.5520170958856034, 0, 0], [0, 0, 0, 0, 1.6472594885461151], [0, 0, 1.7911632518609288, 0, 0], [0.6045917786344791, 0, 1.2091835572689582, 0, 0], [0.6007861165580555, 0, 0, 1.201572233116111, 0], [0, 1.7353889948731456, 0, 0, 0], [0, 0, 0, 1.9446182506712577, 0], [1.922028590095941, 0, 0, 0, 0], [0, 0, 0, 0, 1.6809043938243389], [0.6197570543182795, 0, 0, 1.239514108636559, 0], [0, 0, 1.3381675373839097, 0.6690837686919548, 0], [0, 0, 1.4873209376447614, 0, 0], [1.2716738312513385, 0, 0, 0.6358369156256692, 0], [0, 1.8560688262647687, 0, 0, 0], [0, 0, 0, 0.6027698977078404, 1.2055397954156808], [0.6485799325166611, 0, 0, 1.2971598650333223, 0], [1.728049434959556, 0, 0, 0, 0], [0, 1.2591296630825208, 0, 0.6295648315412604, 0], [0, 0, 0, 0, 1.940384451776882], [0, 0, 0, 1.2180309725629195, 0.6090154862814597], [0, 1.8092054521085257, 0, 0, 0], [0, 0, 1.906149461282212, 0, 0], [0, 0, 0, 0, 1.969511630310684], [1.969164847552034, 0, 0, 0, 0], [0, 0, 0, 0.6140296084140487, 1.2280592168280975], [1.298350494759775, 0, 0.6491752473798875, 0, 0], [0, 0, 0, 1.2726552284762749, 0.6363276142381374], [0, 1.95501004347039, 0, 0, 0]]\n"
     ]
    }
   ],
   "source": [
    "output=[]\n",
    "for i in range(len(test)):\n",
    "    list1=[]\n",
    "    for j in range(0,len(train)):\n",
    "        v=((vac1[i]-vac[j])**2)+((ec1[i]-ec[j])**2)+((sal1[i]-sal[j])**2)+((prp1[i]-prp[j])**2)\n",
    "        if(typ1[i]!=typ[j]):\n",
    "            v=v+1;\n",
    "        if(ls1[i]!=ls[j]):\n",
    "            v=v+1;\n",
    "        eScore=1/math.sqrt(v)\n",
    "        list2=[]\n",
    "        list2.append(eScore)\n",
    "        list2.append(lab[j])\n",
    "        list1.append(list2)\n",
    "    list1=sorted(list1,key=lambda x:x[0])\n",
    "    temp=[0,0,0,0,0]\n",
    "    for j in range(len(list1)-3,len(list1)):\n",
    "        temp[int(list1[j][1][1])-1]=temp[int(list1[j][1][1])-1]+list1[i][0]\n",
    "    output.append(temp)\n",
    "print output"
   ]
  },
  {
   "cell_type": "code",
   "execution_count": 34,
   "metadata": {},
   "outputs": [
    {
     "name": "stdout",
     "output_type": "stream",
     "text": [
      "Model accuracy is: 83.7837837838 %\n"
     ]
    }
   ],
   "source": [
    "#performance metric\n",
    "count=0\n",
    "for i in range(len(output)):\n",
    "    maxx=output[i][0]\n",
    "    imax=0\n",
    "    for j in range(1,len(output[i])):\n",
    "        if(output[i][j]>maxx):\n",
    "#             print \"hi\"\n",
    "            maxx=output[i][j]\n",
    "            imax=j\n",
    "    imax=imax+1\n",
    "    if(int(lab1[i][1])==imax):\n",
    "#         print \"hi\"\n",
    "        count=count+1\n",
    "# print count\n",
    "acc=(count/(len(test)*1.0))*100\n",
    "print \"Model accuracy is:\",acc,\"%\""
   ]
  },
  {
   "cell_type": "code",
   "execution_count": null,
   "metadata": {
    "collapsed": true
   },
   "outputs": [],
   "source": []
  }
 ],
 "metadata": {
  "kernelspec": {
   "display_name": "Python 2",
   "language": "python",
   "name": "python2"
  },
  "language_info": {
   "codemirror_mode": {
    "name": "ipython",
    "version": 2
   },
   "file_extension": ".py",
   "mimetype": "text/x-python",
   "name": "python",
   "nbconvert_exporter": "python",
   "pygments_lexer": "ipython2",
   "version": "2.7.13"
  }
 },
 "nbformat": 4,
 "nbformat_minor": 2
}
