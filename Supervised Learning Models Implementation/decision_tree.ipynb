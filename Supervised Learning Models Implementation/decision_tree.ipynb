{
 "cells": [
  {
   "cell_type": "code",
   "execution_count": 16,
   "metadata": {
    "collapsed": true
   },
   "outputs": [],
   "source": [
    "#loading dataset\n",
    "import arff\n",
    "import math\n",
    "from numpy import median\n",
    "from numpy import mean\n",
    "df=arff.load(open('attachments/trainProdSelection/trainProdSelection.arff','rb'))\n",
    "train=df['data']\n",
    "\n"
   ]
  },
  {
   "cell_type": "code",
   "execution_count": 17,
   "metadata": {
    "collapsed": true
   },
   "outputs": [],
   "source": [
    "#shuffling dataset and splitting into training and testing sets in the ratio 3:1\n",
    "from random import shuffle\n",
    "shuffle(train)\n",
    "sp=int(0.25*(len(train)))\n",
    "\n",
    "test = train[:sp]\n",
    "train=train[sp:]"
   ]
  },
  {
   "cell_type": "markdown",
   "metadata": {},
   "source": [
    "# Pre Processing"
   ]
  },
  {
   "cell_type": "code",
   "execution_count": 18,
   "metadata": {
    "collapsed": true
   },
   "outputs": [],
   "source": [
    "#converting categorical string values to integers\n",
    "#and separating all attributes\n",
    "dicTyp={\"student\":0, \"engineer\":1,\"librarian\":2,\"professor\":3,\"doctor\":4}\n",
    "dicLs={\"spend<<saving\":0,\"spend<saving\":1, \"spend>saving\":2, \"spend>>saving\":3}\n",
    "dicLab={\"C1\":0,\"C2\":1,\"C3\":2,\"C4\":3,\"C5\":4}\n",
    "typ=[]\n",
    "ls=[]\n",
    "vac=[]\n",
    "ec=[]\n",
    "sal=[]\n",
    "prp=[]\n",
    "lab=[]\n",
    "for i in range(len(train)):\n",
    "    typ.append(dicTyp[train[i][0]])\n",
    "    ls.append(dicLs[train[i][1]])\n",
    "    vac.append(int(round(train[i][2])))\n",
    "    ec.append(int(round(train[i][3])))\n",
    "    sal.append(int(round(train[i][4])))\n",
    "    prp.append(int(round(train[i][5])))\n",
    "    lab.append(int(round(dicLab[train[i][6]])))\n",
    "typ1=[]\n",
    "ls1=[]\n",
    "vac1=[]\n",
    "ec1=[]\n",
    "sal1=[]\n",
    "prp1=[]\n",
    "lab1=[]\n",
    "for i in range(len(test)):\n",
    "    typ1.append(dicTyp[test[i][0]])\n",
    "    ls1.append(dicLs[test[i][1]])\n",
    "    vac1.append(int(round(test[i][2])))\n",
    "    ec1.append(int(round(test[i][3])))\n",
    "    sal1.append(int(round(test[i][4])))\n",
    "    prp1.append(int(round(test[i][5])))\n",
    "    lab1.append(int(round(dicLab[test[i][6]])))"
   ]
  },
  {
   "cell_type": "code",
   "execution_count": 19,
   "metadata": {
    "collapsed": true
   },
   "outputs": [],
   "source": [
    "#method for calculating entrophy of target variable\n",
    "def mlab():\n",
    "    count=[1,1,1,1,1,1]\n",
    "    lab1=[0,0,0,0,0]\n",
    "    for i in lab:\n",
    "        lab1[i]=lab1[i]+1\n",
    "    for i in range(len(lab1)):\n",
    "        lab1[i]=-1*((lab1[i]/(len(lab)*1.0))*(math.log(lab1[i]/(len(lab)*1.0),2)))\n",
    "    Hy=sum(lab1)\n",
    "    return Hy"
   ]
  },
  {
   "cell_type": "code",
   "execution_count": 20,
   "metadata": {
    "collapsed": true
   },
   "outputs": [],
   "source": [
    "#method for calculating information gain of type attribute\n",
    "def mtyp():\n",
    "    enTyp=0\n",
    "    for i in range(5):\n",
    "        l1=[0,0,0,0,0]\n",
    "        for j in range(len(typ)):\n",
    "            if(i==typ[j]):\n",
    "                l1[lab[j]]=l1[lab[j]]+1\n",
    "        s=sum(l1)*1.0\n",
    "        lo=0\n",
    "        for j in range(len(l1)):\n",
    "            if(l1[j]!=0):\n",
    "                lo=lo+(-1*(l1[j]/s)*math.log((l1[j]/s),2))\n",
    "        enTyp=enTyp+((s/(len(typ)*1.0))*lo)\n",
    "    igTyp=mlab()-enTyp\n",
    "    return igTyp"
   ]
  },
  {
   "cell_type": "code",
   "execution_count": 21,
   "metadata": {
    "collapsed": true
   },
   "outputs": [],
   "source": [
    "#method for calculating information gain of life style attribute\n",
    "def mls():\n",
    "    enLs=0\n",
    "    for i in range(4):\n",
    "        l1=[0,0,0,0,0]\n",
    "        for j in range(len(ls)):\n",
    "            if(i==ls[j]):\n",
    "                l1[lab[j]]=l1[lab[j]]+1\n",
    "        s=sum(l1)*1.0\n",
    "        lo=0\n",
    "        for j in range(len(l1)):\n",
    "            if(l1[j]!=0):\n",
    "                lo=lo+(-1*(l1[j]/s)*math.log((l1[j]/s),2))\n",
    "        enLs=enLs+((s/(len(ls)*1.0))*lo)\n",
    "    igLs=mlab()-enLs\n",
    "    return igLs"
   ]
  },
  {
   "cell_type": "code",
   "execution_count": 22,
   "metadata": {
    "collapsed": true
   },
   "outputs": [],
   "source": [
    "#method for calculating information gain of vacation attribute\n",
    "def mvac():\n",
    "    m=max(vac)\n",
    "    l1=[]\n",
    "    for i in range(m):\n",
    "        l1.append(0)\n",
    "    enVac=0\n",
    "    for i in range(m+1):\n",
    "        l1=[0,0,0,0,0]\n",
    "        for j in range(len(vac)):\n",
    "            if(i==vac[j]):\n",
    "                l1[lab[j]]=l1[lab[j]]+1\n",
    "        s=sum(l1)*1.0\n",
    "        lo=0\n",
    "        for j in range(len(l1)):\n",
    "            if(l1[j]!=0):\n",
    "                lo=lo+(-1*(l1[j]/s)*math.log((l1[j]/s),2))\n",
    "        enVac=enVac+((s/(len(vac)*1.0))*lo)\n",
    "    igVac=mlab()-enVac\n",
    "    return igVac"
   ]
  },
  {
   "cell_type": "code",
   "execution_count": 23,
   "metadata": {
    "collapsed": true
   },
   "outputs": [],
   "source": [
    "#method for calculating information gain of e-credit attribute\n",
    "def mec():\n",
    "    m=max(ec)\n",
    "    l1=[]\n",
    "    for i in range(m):\n",
    "        l1.append(0)\n",
    "    enEc=0\n",
    "    for i in range(m+1):\n",
    "        l1=[0,0,0,0,0]\n",
    "        for j in range(len(ec)):\n",
    "            if(i==ec[j]):\n",
    "                l1[lab[j]]=l1[lab[j]]+1\n",
    "        s=sum(l1)*1.0\n",
    "        lo=0\n",
    "        for j in range(len(l1)):\n",
    "            if(l1[j]!=0):\n",
    "                lo=lo+(-1*(l1[j]/s)*math.log((l1[j]/s),2))\n",
    "        enEc=enEc+((s/(len(ec)*1.0))*lo)\n",
    "    igEc=mlab()-enEc\n",
    "    return igEc"
   ]
  },
  {
   "cell_type": "code",
   "execution_count": 24,
   "metadata": {
    "collapsed": true
   },
   "outputs": [],
   "source": [
    "#method for calculating information gain of salary attribute\n",
    "def msal():\n",
    "    m=max(sal)\n",
    "    l1=[]\n",
    "    for i in range(m):\n",
    "        l1.append(0)\n",
    "    enSal=0\n",
    "    for i in range(m+1):\n",
    "        l1=[0,0,0,0,0]\n",
    "        for j in range(len(sal)):\n",
    "            if(i==sal[j]):\n",
    "                l1[lab[j]]=l1[lab[j]]+1\n",
    "        s=sum(l1)*1.0\n",
    "        lo=0\n",
    "        for j in range(len(l1)):\n",
    "            if(l1[j]!=0):\n",
    "                lo=lo+(-1*(l1[j]/s)*math.log((l1[j]/s),2))\n",
    "        enSal=enSal+((s/(len(sal)*1.0))*lo)\n",
    "    igSal=mlab()-enSal\n",
    "    return igSal"
   ]
  },
  {
   "cell_type": "code",
   "execution_count": 25,
   "metadata": {},
   "outputs": [
    {
     "name": "stdout",
     "output_type": "stream",
     "text": [
      "0.981583202533\n",
      "0.39361260618\n",
      "1.66822851745\n",
      "1.92858384359\n",
      "0.994292318402\n",
      "1.01103226666\n"
     ]
    }
   ],
   "source": [
    "#method for calculating information gain of property attribute\n",
    "def mprp():\n",
    "    m=max(prp)\n",
    "    l1=[]\n",
    "    for i in range(m):\n",
    "        l1.append(0)\n",
    "    enPrp=0\n",
    "    for i in range(m+1):\n",
    "        l1=[0,0,0,0,0]\n",
    "        for j in range(len(prp)):\n",
    "            if(i==prp[j]):\n",
    "                l1[lab[j]]=l1[lab[j]]+1\n",
    "        s=sum(l1)*1.0\n",
    "        lo=0\n",
    "        for j in range(len(l1)):\n",
    "            if(l1[j]!=0):\n",
    "                lo=lo+(-1*(l1[j]/s)*math.log((l1[j]/s),2))\n",
    "        enPrp=enPrp+((s/(len(prp)*1.0))*lo)\n",
    "    igPrp=mlab()-enPrp\n",
    "    return igPrp\n",
    "print mtyp()\n",
    "print mls()\n",
    "print mvac()\n",
    "print mec()\n",
    "print msal()\n",
    "print mprp()"
   ]
  },
  {
   "cell_type": "code",
   "execution_count": 26,
   "metadata": {
    "collapsed": true
   },
   "outputs": [],
   "source": [
    "# root=[1,1,1,1,1,1]"
   ]
  },
  {
   "cell_type": "code",
   "execution_count": 27,
   "metadata": {
    "collapsed": true
   },
   "outputs": [],
   "source": [
    "#node class for decision tree whicch contains all attributes information, information gain and data as threshould for splitting\n",
    "class Tree(object):\n",
    "    def __init__(self):\n",
    "        \n",
    "        self.data = None\n",
    "        self.classifier=None\n",
    "        self.typ=[]\n",
    "        self.ls=[]\n",
    "        self.vac=[]\n",
    "        self.ec=[]\n",
    "        self.sal=[]\n",
    "        self.prp=[]\n",
    "        self.lab=[]\n",
    "        self.attr=[0,0,0,0,0,0]\n",
    "        self.ig=[0,0,0,0,0,0]\n",
    "        self.splitAttr=None\n"
   ]
  },
  {
   "cell_type": "markdown",
   "metadata": {},
   "source": [
    "# Constructing Decision Tree"
   ]
  },
  {
   "cell_type": "code",
   "execution_count": 28,
   "metadata": {
    "collapsed": true
   },
   "outputs": [],
   "source": [
    "#creating dictionary which contains index of attribute and method to  calculate information gain based on the index of attribute\n",
    "dictAttr1={0:mtyp(),1:mls(),2:mvac(),3:mec(),4:msal(),5:mprp()}\n",
    "# dictAttr2={mtyp():0,mls():1,mvac():2,3:mec(),4:msal(),5:mprp()}\n",
    "\n",
    "#constrcuting output array for binary tree with number of number nodes as 2 power of attributes\n",
    "#Root node starts at index 1\n",
    "#if index parent node is 1 and its childs indices are 2*i and 2*i+1\n",
    "output=[None]*(2**7)\n",
    "\n",
    "#rcontructing root node which starts at index 1 in the output array by selecting the max information gain from all the attributes\n",
    "output[1]=Tree()\n",
    "output[1].data=mean(ec)\n",
    "output[1].typ=typ\n",
    "output[1].ls=ls\n",
    "output[1].vac=vac\n",
    "output[1].ec=ec\n",
    "output[1].sal=sal\n",
    "output[1].prp=prp\n",
    "output[1].lab=lab\n",
    "output[1].attr=[1,1,1,0,1,1]\n",
    "output[1].ig=[1,1,1,0,1,1]\n",
    "output[1].splitAttr=3\n",
    "\n",
    "\n",
    "#splitting the data on the attribute by data(threshould) value and iteratively calculating the information gain on the\n",
    "#non splitted attrbutes and constructing decision tree until all the attributes are finished \n",
    "\n",
    "for i in range(2,(2**7)):\n",
    "    \n",
    "    output[i]=Tree()\n",
    "    for j in range(len(output[i/2].ec)):\n",
    "        if(i%2==0 and output[i/2].ec[j]<=output[i/2].data):\n",
    "            output[i].typ.append(output[i/2].typ[j])\n",
    "            output[i].ls.append(output[i/2].ls[j])\n",
    "            output[i].vac.append(output[i/2].vac[j])\n",
    "            output[i].ec.append(output[i/2].ec[j])\n",
    "            output[i].sal.append(output[i/2].sal[j])\n",
    "            output[i].prp.append(output[i/2].prp[j])\n",
    "            output[i].lab.append(output[i/2].lab[j])\n",
    "        elif(i%2==1 and output[i/2].ec[j]>output[i/2].data):\n",
    "            output[i].typ.append(output[i/2].typ[j])\n",
    "            output[i].ls.append(output[i/2].ls[j])\n",
    "            output[i].vac.append(output[i/2].vac[j])\n",
    "            output[i].ec.append(output[i/2].ec[j])\n",
    "            output[i].sal.append(output[i/2].sal[j])\n",
    "            output[i].prp.append(output[i/2].prp[j])\n",
    "            output[i].lab.append(output[i/2].lab[j])\n",
    "    temp=[0]*5\n",
    "    if(max(output[i/2].attr)==0):\n",
    "        for j in range(len(output[i].lab)):\n",
    "            temp[output[i].lab[j]]=temp[output[i].lab[j]]+1\n",
    "        ind=temp.index(max(temp))\n",
    "        output[i].classifier=ind\n",
    "        continue\n",
    "            \n",
    "    \n",
    "    typ=output[i].typ[:]\n",
    "    ls=output[i].ls[:]\n",
    "    vac=output[i].vac[:]\n",
    "    ec=output[i].ec[:]\n",
    "    sal=output[i].sal[:]\n",
    "    prp=output[i].prp[:]\n",
    "    lab=output[i].lab[:]\n",
    "    output[i].attr=output[i/2].attr[:]\n",
    "    for j in range(len(output[i/2].attr)):\n",
    "        if(output[i/2].attr[j]==1):\n",
    "            output[i].ig[j]=dictAttr1[j]\n",
    "    ind=output[i].ig.index(max(output[i].ig))\n",
    "    output[i].attr[ind]=0\n",
    "    output[i].splitAttr=ind\n",
    "    "
   ]
  },
  {
   "cell_type": "markdown",
   "metadata": {},
   "source": [
    "# Calculating accuracy of the model by using testing data"
   ]
  },
  {
   "cell_type": "code",
   "execution_count": 29,
   "metadata": {},
   "outputs": [
    {
     "name": "stdout",
     "output_type": "stream",
     "text": [
      "The model's accuracy is: 52.1739130435\n"
     ]
    }
   ],
   "source": [
    "# predicting the classifier of the testing data from the decision tree and counting the number of correct classifications\n",
    "\n",
    "dictTest={0:typ1,1:ls1,2:vac1,3:ec1,4:sal1,5:prp1}\n",
    "count=0\n",
    "for i in range(len(test)):\n",
    "    ind=1;\n",
    "    temp=output[ind]\n",
    "    while(temp.splitAttr!=None):\n",
    "        if(dictTest[temp.splitAttr][i]<=temp.data):\n",
    "            temp=output[2*ind]\n",
    "            ind=ind*2;\n",
    "        else:\n",
    "            temp=output[2*ind+1]\n",
    "            ind=ind*2+1\n",
    "    if(temp.classifier==lab1[i]):\n",
    "        count=count+1\n",
    "        \n",
    "#calculating the accuracy of the model by the formula (number of true predictions / number of total predictions)\n",
    "print \"The model's accuracy is:\",(float(count)/len(test))*100\n",
    "    "
   ]
  },
  {
   "cell_type": "code",
   "execution_count": null,
   "metadata": {
    "collapsed": true
   },
   "outputs": [],
   "source": []
  },
  {
   "cell_type": "code",
   "execution_count": null,
   "metadata": {
    "collapsed": true
   },
   "outputs": [],
   "source": []
  },
  {
   "cell_type": "code",
   "execution_count": null,
   "metadata": {
    "collapsed": true
   },
   "outputs": [],
   "source": []
  }
 ],
 "metadata": {
  "kernelspec": {
   "display_name": "Python 2",
   "language": "python",
   "name": "python2"
  },
  "language_info": {
   "codemirror_mode": {
    "name": "ipython",
    "version": 2
   },
   "file_extension": ".py",
   "mimetype": "text/x-python",
   "name": "python",
   "nbconvert_exporter": "python",
   "pygments_lexer": "ipython2",
   "version": "2.7.13"
  }
 },
 "nbformat": 4,
 "nbformat_minor": 2
}
