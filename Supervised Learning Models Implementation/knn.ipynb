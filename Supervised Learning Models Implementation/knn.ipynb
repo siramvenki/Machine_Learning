{
 "cells": [
  {
   "cell_type": "code",
   "execution_count": 45,
   "metadata": {},
   "outputs": [],
   "source": [
    "import arff\n",
    "import math\n",
    "\n",
    "#loading dataset\n",
    "df=arff.load(open('attachments/trainProdSelection/trainProdSelection.arff','rb'))\n",
    "train=df['data']\n"
   ]
  },
  {
   "cell_type": "code",
   "execution_count": 46,
   "metadata": {},
   "outputs": [],
   "source": [
    "#shuffling dataset and splitting into training and testing sets in the ratio 3:1\n",
    "from random import shuffle\n",
    "shuffle(train)\n",
    "sp=int(0.25*(len(train)))\n",
    "\n",
    "test = train[:sp]\n",
    "train=train[sp:]"
   ]
  },
  {
   "cell_type": "markdown",
   "metadata": {},
   "source": [
    "# Pre Processing"
   ]
  },
  {
   "cell_type": "code",
   "execution_count": 47,
   "metadata": {
    "collapsed": true
   },
   "outputs": [],
   "source": [
    "#separating all the attributes in the dataset\n",
    "typ=[]\n",
    "ls=[]\n",
    "vac=[]\n",
    "ec=[]\n",
    "sal=[]\n",
    "prp=[]\n",
    "lab=[]\n",
    "for i in range(len(train)):\n",
    "    typ.append(train[i][0])\n",
    "    ls.append(train[i][1])\n",
    "    vac.append(train[i][2])\n",
    "    ec.append(train[i][3])\n",
    "    sal.append(train[i][4])\n",
    "    prp.append(train[i][5])\n",
    "    lab.append(train[i][6])"
   ]
  },
  {
   "cell_type": "code",
   "execution_count": 48,
   "metadata": {
    "collapsed": true
   },
   "outputs": [],
   "source": [
    "#normalizing numeric values of train data by finding the minumum and maxmimum values in the list and\n",
    "#applying the formula (actual-minimum)/(maximum-minimum)\n",
    "\n",
    "maxx=max(vac)\n",
    "minn=min(vac)\n",
    "for i in range(len(vac)):\n",
    "    vac[i]=(vac[i]-minn)/(maxx-minn)\n",
    "maxx=max(ec)\n",
    "minn=min(ec)\n",
    "for i in range(len(ec)):\n",
    "    ec[i]=(ec[i]-minn)/(maxx-minn)\n",
    "maxx=max(sal)\n",
    "minn=min(sal)\n",
    "for i in range(len(sal)):\n",
    "    sal[i]=(sal[i]-minn)/(maxx-minn)\n",
    "maxx=max(prp)\n",
    "minn=min(prp)\n",
    "for i in range(len(prp)):\n",
    "    prp[i]=(prp[i]-minn)/(maxx-minn)\n"
   ]
  },
  {
   "cell_type": "code",
   "execution_count": 49,
   "metadata": {
    "collapsed": true
   },
   "outputs": [],
   "source": [
    "#separating all the attrbutes and normalizing numeric values of test data\n",
    "typ1=[]\n",
    "ls1=[]\n",
    "vac1=[]\n",
    "ec1=[]\n",
    "sal1=[]\n",
    "prp1=[]\n",
    "lab1=[]\n",
    "for i in range(len(test)):\n",
    "    typ1.append(test[i][0])\n",
    "    ls1.append(test[i][1])\n",
    "    vac1.append(test[i][2])\n",
    "    ec1.append(test[i][3])\n",
    "    sal1.append(test[i][4])\n",
    "    prp1.append(test[i][5])\n",
    "    lab1.append(test[i][6])\n",
    "maxx=max(vac1)\n",
    "minn=min(vac1)\n",
    "for i in range(len(vac1)):\n",
    "    vac1[i]=(vac1[i]-minn)/(maxx-minn)\n",
    "maxx=max(ec1)\n",
    "minn=min(ec1)\n",
    "for i in range(len(ec1)):\n",
    "    ec1[i]=(ec1[i]-minn)/(maxx-minn)\n",
    "maxx=max(sal1)\n",
    "minn=min(sal1)\n",
    "for i in range(len(sal1)):\n",
    "    sal1[i]=(sal1[i]-minn)/(maxx-minn)\n",
    "maxx=max(prp1)\n",
    "minn=min(prp1)\n",
    "for i in range(len(prp1)):\n",
    "    prp1[i]=(prp1[i]-minn)/(maxx-minn)\n"
   ]
  },
  {
   "cell_type": "markdown",
   "metadata": {},
   "source": [
    "# Applyting KNN on test data"
   ]
  },
  {
   "cell_type": "code",
   "execution_count": 50,
   "metadata": {},
   "outputs": [],
   "source": [
    "#taking each sample from test data and finding the inverse euclidian distance to all the training samples and taking top three\n",
    "#after sorting the training data in descending order based on the distance vector\n",
    "\n",
    "output=[]\n",
    "for i in range(len(test)):\n",
    "    list1=[]\n",
    "    for j in range(0,len(train)):\n",
    "        v=((vac1[i]-vac[j])**2)+((ec1[i]-ec[j])**2)+((sal1[i]-sal[j])**2)+((prp1[i]-prp[j])**2)\n",
    "        if(typ1[i]!=typ[j]):\n",
    "            v=v+1;\n",
    "        if(ls1[i]!=ls[j]):\n",
    "            v=v+1;\n",
    "        eScore=1/math.sqrt(v)\n",
    "        list2=[]\n",
    "        list2.append(eScore)\n",
    "        list2.append(lab[j])\n",
    "        list1.append(list2)\n",
    "    list1=sorted(list1,key=lambda x:x[0])\n",
    "    temp=[0,0,0,0,0]\n",
    "    for j in range(len(list1)-3,len(list1)):\n",
    "        temp[int(list1[j][1][1])-1]=temp[int(list1[j][1][1])-1]+list1[i][0]\n",
    "    output.append(temp)"
   ]
  },
  {
   "cell_type": "markdown",
   "metadata": {},
   "source": [
    "# Calculating accuracy of the model"
   ]
  },
  {
   "cell_type": "code",
   "execution_count": 51,
   "metadata": {},
   "outputs": [
    {
     "name": "stdout",
     "output_type": "stream",
     "text": [
      "39\n",
      "84.7826086957\n"
     ]
    }
   ],
   "source": [
    "#performance metric\n",
    "#taking the maximum value index, which is the classifer and calulating the number of true predictions\n",
    "\n",
    "count=0\n",
    "for i in range(len(output)):\n",
    "    maxx=output[i][0]\n",
    "    imax=0\n",
    "    for j in range(1,len(output[i])):\n",
    "        if(output[i][j]>maxx):\n",
    "            maxx=output[i][j]\n",
    "            imax=j\n",
    "    imax=imax+1\n",
    "    if(int(lab1[i][1])==imax):\n",
    "        count=count+1\n",
    "print count\n",
    "\n",
    "#calculating the acuuracy of the model by the formula (number of true predictions / total number of predictions)\n",
    "acc=(count/(len(test)*1.0))*100\n",
    "print acc"
   ]
  },
  {
   "cell_type": "markdown",
   "metadata": {
    "collapsed": true
   },
   "source": [
    "#### The model's accuracy is 84.7826086957"
   ]
  },
  {
   "cell_type": "code",
   "execution_count": null,
   "metadata": {
    "collapsed": true
   },
   "outputs": [],
   "source": []
  }
 ],
 "metadata": {
  "kernelspec": {
   "display_name": "Python 2",
   "language": "python",
   "name": "python2"
  },
  "language_info": {
   "codemirror_mode": {
    "name": "ipython",
    "version": 2
   },
   "file_extension": ".py",
   "mimetype": "text/x-python",
   "name": "python",
   "nbconvert_exporter": "python",
   "pygments_lexer": "ipython2",
   "version": "2.7.13"
  }
 },
 "nbformat": 4,
 "nbformat_minor": 2
}
